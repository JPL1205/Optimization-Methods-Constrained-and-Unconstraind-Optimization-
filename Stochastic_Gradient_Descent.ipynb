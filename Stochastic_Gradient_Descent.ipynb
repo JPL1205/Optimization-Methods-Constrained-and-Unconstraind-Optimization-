{
 "cells": [
  {
   "cell_type": "code",
   "execution_count": 34,
   "metadata": {},
   "outputs": [],
   "source": [
    "import pandas as pd\n",
    "import numpy as np\n",
    "from matplotlib import pyplot as plt\n",
    "from sklearn.datasets import fetch_openml"
   ]
  },
  {
   "cell_type": "markdown",
   "metadata": {},
   "source": [
    "### Loading MNIST Data"
   ]
  },
  {
   "cell_type": "code",
   "execution_count": 35,
   "metadata": {},
   "outputs": [],
   "source": [
    "# test = pd.read_csv('mnist_test.csv', names=[f\"x{i}\" for i in range(784)] + [\"y\"])\n",
    "# train = pd.read_csv('mnist_train.csv', names=[f\"x{i}\" for i in range(784)] + [\"y\"])\n",
    "test = pd.read_csv('mnist_test.csv',header=None)\n",
    "train = pd.read_csv('mnist_train.csv', header=None)"
   ]
  },
  {
   "cell_type": "code",
   "execution_count": 36,
   "metadata": {},
   "outputs": [
    {
     "name": "stdout",
     "output_type": "stream",
     "text": [
      "(10000, 785)\n"
     ]
    },
    {
     "data": {
      "text/html": [
       "<div>\n",
       "<style scoped>\n",
       "    .dataframe tbody tr th:only-of-type {\n",
       "        vertical-align: middle;\n",
       "    }\n",
       "\n",
       "    .dataframe tbody tr th {\n",
       "        vertical-align: top;\n",
       "    }\n",
       "\n",
       "    .dataframe thead th {\n",
       "        text-align: right;\n",
       "    }\n",
       "</style>\n",
       "<table border=\"1\" class=\"dataframe\">\n",
       "  <thead>\n",
       "    <tr style=\"text-align: right;\">\n",
       "      <th></th>\n",
       "      <th>0</th>\n",
       "      <th>1</th>\n",
       "      <th>2</th>\n",
       "      <th>3</th>\n",
       "      <th>4</th>\n",
       "      <th>5</th>\n",
       "      <th>6</th>\n",
       "      <th>7</th>\n",
       "      <th>8</th>\n",
       "      <th>9</th>\n",
       "      <th>...</th>\n",
       "      <th>775</th>\n",
       "      <th>776</th>\n",
       "      <th>777</th>\n",
       "      <th>778</th>\n",
       "      <th>779</th>\n",
       "      <th>780</th>\n",
       "      <th>781</th>\n",
       "      <th>782</th>\n",
       "      <th>783</th>\n",
       "      <th>784</th>\n",
       "    </tr>\n",
       "  </thead>\n",
       "  <tbody>\n",
       "    <tr>\n",
       "      <th>0</th>\n",
       "      <td>7</td>\n",
       "      <td>0</td>\n",
       "      <td>0</td>\n",
       "      <td>0</td>\n",
       "      <td>0</td>\n",
       "      <td>0</td>\n",
       "      <td>0</td>\n",
       "      <td>0</td>\n",
       "      <td>0</td>\n",
       "      <td>0</td>\n",
       "      <td>...</td>\n",
       "      <td>0</td>\n",
       "      <td>0</td>\n",
       "      <td>0</td>\n",
       "      <td>0</td>\n",
       "      <td>0</td>\n",
       "      <td>0</td>\n",
       "      <td>0</td>\n",
       "      <td>0</td>\n",
       "      <td>0</td>\n",
       "      <td>0</td>\n",
       "    </tr>\n",
       "    <tr>\n",
       "      <th>1</th>\n",
       "      <td>2</td>\n",
       "      <td>0</td>\n",
       "      <td>0</td>\n",
       "      <td>0</td>\n",
       "      <td>0</td>\n",
       "      <td>0</td>\n",
       "      <td>0</td>\n",
       "      <td>0</td>\n",
       "      <td>0</td>\n",
       "      <td>0</td>\n",
       "      <td>...</td>\n",
       "      <td>0</td>\n",
       "      <td>0</td>\n",
       "      <td>0</td>\n",
       "      <td>0</td>\n",
       "      <td>0</td>\n",
       "      <td>0</td>\n",
       "      <td>0</td>\n",
       "      <td>0</td>\n",
       "      <td>0</td>\n",
       "      <td>0</td>\n",
       "    </tr>\n",
       "    <tr>\n",
       "      <th>2</th>\n",
       "      <td>1</td>\n",
       "      <td>0</td>\n",
       "      <td>0</td>\n",
       "      <td>0</td>\n",
       "      <td>0</td>\n",
       "      <td>0</td>\n",
       "      <td>0</td>\n",
       "      <td>0</td>\n",
       "      <td>0</td>\n",
       "      <td>0</td>\n",
       "      <td>...</td>\n",
       "      <td>0</td>\n",
       "      <td>0</td>\n",
       "      <td>0</td>\n",
       "      <td>0</td>\n",
       "      <td>0</td>\n",
       "      <td>0</td>\n",
       "      <td>0</td>\n",
       "      <td>0</td>\n",
       "      <td>0</td>\n",
       "      <td>0</td>\n",
       "    </tr>\n",
       "    <tr>\n",
       "      <th>3</th>\n",
       "      <td>0</td>\n",
       "      <td>0</td>\n",
       "      <td>0</td>\n",
       "      <td>0</td>\n",
       "      <td>0</td>\n",
       "      <td>0</td>\n",
       "      <td>0</td>\n",
       "      <td>0</td>\n",
       "      <td>0</td>\n",
       "      <td>0</td>\n",
       "      <td>...</td>\n",
       "      <td>0</td>\n",
       "      <td>0</td>\n",
       "      <td>0</td>\n",
       "      <td>0</td>\n",
       "      <td>0</td>\n",
       "      <td>0</td>\n",
       "      <td>0</td>\n",
       "      <td>0</td>\n",
       "      <td>0</td>\n",
       "      <td>0</td>\n",
       "    </tr>\n",
       "    <tr>\n",
       "      <th>4</th>\n",
       "      <td>4</td>\n",
       "      <td>0</td>\n",
       "      <td>0</td>\n",
       "      <td>0</td>\n",
       "      <td>0</td>\n",
       "      <td>0</td>\n",
       "      <td>0</td>\n",
       "      <td>0</td>\n",
       "      <td>0</td>\n",
       "      <td>0</td>\n",
       "      <td>...</td>\n",
       "      <td>0</td>\n",
       "      <td>0</td>\n",
       "      <td>0</td>\n",
       "      <td>0</td>\n",
       "      <td>0</td>\n",
       "      <td>0</td>\n",
       "      <td>0</td>\n",
       "      <td>0</td>\n",
       "      <td>0</td>\n",
       "      <td>0</td>\n",
       "    </tr>\n",
       "  </tbody>\n",
       "</table>\n",
       "<p>5 rows × 785 columns</p>\n",
       "</div>"
      ],
      "text/plain": [
       "   0    1    2    3    4    5    6    7    8    9    ...  775  776  777  778  \\\n",
       "0    7    0    0    0    0    0    0    0    0    0  ...    0    0    0    0   \n",
       "1    2    0    0    0    0    0    0    0    0    0  ...    0    0    0    0   \n",
       "2    1    0    0    0    0    0    0    0    0    0  ...    0    0    0    0   \n",
       "3    0    0    0    0    0    0    0    0    0    0  ...    0    0    0    0   \n",
       "4    4    0    0    0    0    0    0    0    0    0  ...    0    0    0    0   \n",
       "\n",
       "   779  780  781  782  783  784  \n",
       "0    0    0    0    0    0    0  \n",
       "1    0    0    0    0    0    0  \n",
       "2    0    0    0    0    0    0  \n",
       "3    0    0    0    0    0    0  \n",
       "4    0    0    0    0    0    0  \n",
       "\n",
       "[5 rows x 785 columns]"
      ]
     },
     "execution_count": 36,
     "metadata": {},
     "output_type": "execute_result"
    }
   ],
   "source": [
    "print(test.shape)\n",
    "test.head(5)"
   ]
  },
  {
   "cell_type": "code",
   "execution_count": 37,
   "metadata": {},
   "outputs": [
    {
     "name": "stdout",
     "output_type": "stream",
     "text": [
      "(60000, 785)\n"
     ]
    },
    {
     "data": {
      "text/html": [
       "<div>\n",
       "<style scoped>\n",
       "    .dataframe tbody tr th:only-of-type {\n",
       "        vertical-align: middle;\n",
       "    }\n",
       "\n",
       "    .dataframe tbody tr th {\n",
       "        vertical-align: top;\n",
       "    }\n",
       "\n",
       "    .dataframe thead th {\n",
       "        text-align: right;\n",
       "    }\n",
       "</style>\n",
       "<table border=\"1\" class=\"dataframe\">\n",
       "  <thead>\n",
       "    <tr style=\"text-align: right;\">\n",
       "      <th></th>\n",
       "      <th>0</th>\n",
       "      <th>1</th>\n",
       "      <th>2</th>\n",
       "      <th>3</th>\n",
       "      <th>4</th>\n",
       "      <th>5</th>\n",
       "      <th>6</th>\n",
       "      <th>7</th>\n",
       "      <th>8</th>\n",
       "      <th>9</th>\n",
       "      <th>...</th>\n",
       "      <th>775</th>\n",
       "      <th>776</th>\n",
       "      <th>777</th>\n",
       "      <th>778</th>\n",
       "      <th>779</th>\n",
       "      <th>780</th>\n",
       "      <th>781</th>\n",
       "      <th>782</th>\n",
       "      <th>783</th>\n",
       "      <th>784</th>\n",
       "    </tr>\n",
       "  </thead>\n",
       "  <tbody>\n",
       "    <tr>\n",
       "      <th>0</th>\n",
       "      <td>5</td>\n",
       "      <td>0</td>\n",
       "      <td>0</td>\n",
       "      <td>0</td>\n",
       "      <td>0</td>\n",
       "      <td>0</td>\n",
       "      <td>0</td>\n",
       "      <td>0</td>\n",
       "      <td>0</td>\n",
       "      <td>0</td>\n",
       "      <td>...</td>\n",
       "      <td>0</td>\n",
       "      <td>0</td>\n",
       "      <td>0</td>\n",
       "      <td>0</td>\n",
       "      <td>0</td>\n",
       "      <td>0</td>\n",
       "      <td>0</td>\n",
       "      <td>0</td>\n",
       "      <td>0</td>\n",
       "      <td>0</td>\n",
       "    </tr>\n",
       "    <tr>\n",
       "      <th>1</th>\n",
       "      <td>0</td>\n",
       "      <td>0</td>\n",
       "      <td>0</td>\n",
       "      <td>0</td>\n",
       "      <td>0</td>\n",
       "      <td>0</td>\n",
       "      <td>0</td>\n",
       "      <td>0</td>\n",
       "      <td>0</td>\n",
       "      <td>0</td>\n",
       "      <td>...</td>\n",
       "      <td>0</td>\n",
       "      <td>0</td>\n",
       "      <td>0</td>\n",
       "      <td>0</td>\n",
       "      <td>0</td>\n",
       "      <td>0</td>\n",
       "      <td>0</td>\n",
       "      <td>0</td>\n",
       "      <td>0</td>\n",
       "      <td>0</td>\n",
       "    </tr>\n",
       "    <tr>\n",
       "      <th>2</th>\n",
       "      <td>4</td>\n",
       "      <td>0</td>\n",
       "      <td>0</td>\n",
       "      <td>0</td>\n",
       "      <td>0</td>\n",
       "      <td>0</td>\n",
       "      <td>0</td>\n",
       "      <td>0</td>\n",
       "      <td>0</td>\n",
       "      <td>0</td>\n",
       "      <td>...</td>\n",
       "      <td>0</td>\n",
       "      <td>0</td>\n",
       "      <td>0</td>\n",
       "      <td>0</td>\n",
       "      <td>0</td>\n",
       "      <td>0</td>\n",
       "      <td>0</td>\n",
       "      <td>0</td>\n",
       "      <td>0</td>\n",
       "      <td>0</td>\n",
       "    </tr>\n",
       "    <tr>\n",
       "      <th>3</th>\n",
       "      <td>1</td>\n",
       "      <td>0</td>\n",
       "      <td>0</td>\n",
       "      <td>0</td>\n",
       "      <td>0</td>\n",
       "      <td>0</td>\n",
       "      <td>0</td>\n",
       "      <td>0</td>\n",
       "      <td>0</td>\n",
       "      <td>0</td>\n",
       "      <td>...</td>\n",
       "      <td>0</td>\n",
       "      <td>0</td>\n",
       "      <td>0</td>\n",
       "      <td>0</td>\n",
       "      <td>0</td>\n",
       "      <td>0</td>\n",
       "      <td>0</td>\n",
       "      <td>0</td>\n",
       "      <td>0</td>\n",
       "      <td>0</td>\n",
       "    </tr>\n",
       "    <tr>\n",
       "      <th>4</th>\n",
       "      <td>9</td>\n",
       "      <td>0</td>\n",
       "      <td>0</td>\n",
       "      <td>0</td>\n",
       "      <td>0</td>\n",
       "      <td>0</td>\n",
       "      <td>0</td>\n",
       "      <td>0</td>\n",
       "      <td>0</td>\n",
       "      <td>0</td>\n",
       "      <td>...</td>\n",
       "      <td>0</td>\n",
       "      <td>0</td>\n",
       "      <td>0</td>\n",
       "      <td>0</td>\n",
       "      <td>0</td>\n",
       "      <td>0</td>\n",
       "      <td>0</td>\n",
       "      <td>0</td>\n",
       "      <td>0</td>\n",
       "      <td>0</td>\n",
       "    </tr>\n",
       "  </tbody>\n",
       "</table>\n",
       "<p>5 rows × 785 columns</p>\n",
       "</div>"
      ],
      "text/plain": [
       "   0    1    2    3    4    5    6    7    8    9    ...  775  776  777  778  \\\n",
       "0    5    0    0    0    0    0    0    0    0    0  ...    0    0    0    0   \n",
       "1    0    0    0    0    0    0    0    0    0    0  ...    0    0    0    0   \n",
       "2    4    0    0    0    0    0    0    0    0    0  ...    0    0    0    0   \n",
       "3    1    0    0    0    0    0    0    0    0    0  ...    0    0    0    0   \n",
       "4    9    0    0    0    0    0    0    0    0    0  ...    0    0    0    0   \n",
       "\n",
       "   779  780  781  782  783  784  \n",
       "0    0    0    0    0    0    0  \n",
       "1    0    0    0    0    0    0  \n",
       "2    0    0    0    0    0    0  \n",
       "3    0    0    0    0    0    0  \n",
       "4    0    0    0    0    0    0  \n",
       "\n",
       "[5 rows x 785 columns]"
      ]
     },
     "execution_count": 37,
     "metadata": {},
     "output_type": "execute_result"
    }
   ],
   "source": [
    "print(train.shape)\n",
    "train.head(5)"
   ]
  },
  {
   "cell_type": "code",
   "execution_count": 38,
   "metadata": {},
   "outputs": [
    {
     "name": "stdout",
     "output_type": "stream",
     "text": [
      "shape of data with label 0 : (5923, 28, 28)\n",
      "shape of data with label 1 : (6742, 28, 28)\n",
      "shape of data with label 2 : (5958, 28, 28)\n",
      "shape of data with label 3 : (6131, 28, 28)\n",
      "shape of data with label 4 : (5842, 28, 28)\n",
      "shape of data with label 5 : (5421, 28, 28)\n",
      "shape of data with label 6 : (5918, 28, 28)\n",
      "shape of data with label 7 : (6265, 28, 28)\n",
      "shape of data with label 8 : (5851, 28, 28)\n",
      "shape of data with label 9 : (5949, 28, 28)\n"
     ]
    }
   ],
   "source": [
    "def preprocess(data):\n",
    "    X = data.iloc[:, 1:]\n",
    "    y = data.iloc[:, 0]\n",
    "    digits = {j:[] for j in range(10)}\n",
    "    for j in range(len(y)):\n",
    "        cur_label = int(y[j])\n",
    "        cur_pixel_data = np.array(X.iloc[j]).reshape(28,28)\n",
    "        digits[cur_label].append(cur_pixel_data)\n",
    "    digits = {j:np.stack(digits[j]) for j in range(10)}\n",
    "    for j in range(10):\n",
    "        print('shape of data with label', j, ':', digits[j].shape)\n",
    "    \n",
    "    return digits\n",
    "\n",
    "train_digits = preprocess(train)"
   ]
  },
  {
   "cell_type": "code",
   "execution_count": 39,
   "metadata": {},
   "outputs": [
    {
     "name": "stdout",
     "output_type": "stream",
     "text": [
      "shape of data with label 0 : (980, 28, 28)\n",
      "shape of data with label 1 : (1135, 28, 28)\n",
      "shape of data with label 2 : (1032, 28, 28)\n",
      "shape of data with label 3 : (1010, 28, 28)\n",
      "shape of data with label 4 : (982, 28, 28)\n",
      "shape of data with label 5 : (892, 28, 28)\n",
      "shape of data with label 6 : (958, 28, 28)\n",
      "shape of data with label 7 : (1028, 28, 28)\n",
      "shape of data with label 8 : (974, 28, 28)\n",
      "shape of data with label 9 : (1009, 28, 28)\n"
     ]
    }
   ],
   "source": [
    "test_digits = preprocess(test)"
   ]
  },
  {
   "cell_type": "code",
   "execution_count": 40,
   "metadata": {},
   "outputs": [
    {
     "data": {
      "text/plain": [
       "(5958, 784)"
      ]
     },
     "execution_count": 40,
     "metadata": {},
     "output_type": "execute_result"
    }
   ],
   "source": [
    "train_one_data = train_digits[1]\n",
    "train_two_data = train_digits[2]\n",
    "\n",
    "train_one_labels = np.ones(len(train_one_data))\n",
    "train_two_labels = np.ones(len(train_two_data))*-1\n",
    "\n",
    "train_one_data = np.reshape(train_one_data, (len(train_one_data), 28*28))\n",
    "train_two_data = np.reshape(train_two_data, (len(train_two_data), 28*28))\n",
    "\n",
    "train_two_data.shape"
   ]
  },
  {
   "cell_type": "code",
   "execution_count": 41,
   "metadata": {},
   "outputs": [
    {
     "data": {
      "text/plain": [
       "((4000, 784), (4000,))"
      ]
     },
     "execution_count": 41,
     "metadata": {},
     "output_type": "execute_result"
    }
   ],
   "source": [
    "train_one_data = train_one_data[:2000]\n",
    "train_two_data = train_two_data[:2000]\n",
    "\n",
    "train_one_labels = train_one_labels[:2000]\n",
    "train_two_labels = train_two_labels[:2000]\n",
    "\n",
    "train_data = np.concatenate((train_one_data, train_two_data))\n",
    "train_labels = np.concatenate((train_one_labels, train_two_labels))\n",
    "\n",
    "train_data.shape, train_labels.shape"
   ]
  },
  {
   "cell_type": "code",
   "execution_count": 42,
   "metadata": {},
   "outputs": [
    {
     "data": {
      "text/plain": [
       "(1032, 784)"
      ]
     },
     "execution_count": 42,
     "metadata": {},
     "output_type": "execute_result"
    }
   ],
   "source": [
    "test_one_data = test_digits[1]\n",
    "test_two_data = test_digits[2]\n",
    "\n",
    "test_one_labels = np.ones(len(test_one_data))\n",
    "test_two_labels = np.ones(len(test_two_data))*-1\n",
    "\n",
    "test_one_data = np.reshape(test_one_data, (len(test_one_data), 28*28))\n",
    "test_two_data = np.reshape(test_two_data, (len(test_two_data), 28*28))\n",
    "\n",
    "test_two_data.shape"
   ]
  },
  {
   "cell_type": "code",
   "execution_count": 43,
   "metadata": {},
   "outputs": [
    {
     "data": {
      "text/plain": [
       "((1000, 784), (1000,))"
      ]
     },
     "execution_count": 43,
     "metadata": {},
     "output_type": "execute_result"
    }
   ],
   "source": [
    "test_one_data = test_one_data[:500]\n",
    "test_two_data = test_two_data[:500]\n",
    "\n",
    "test_one_labels = test_one_labels[:500]\n",
    "test_two_labels = test_two_labels[:500]\n",
    "\n",
    "test_data = np.concatenate((test_one_data, test_two_data))\n",
    "test_labels = np.concatenate((test_one_labels, test_two_labels))\n",
    "\n",
    "test_data.shape, test_labels.shape"
   ]
  },
  {
   "cell_type": "markdown",
   "metadata": {},
   "source": [
    "\n",
    "### (1) \n",
    "For this question, use the first 2000 training data points for each of the digits 1 and 2, to form the pairs (xi, yi) ∈ R784 × {−1, 1}, i = 1, ..., 1000. Assign the label yi = 1 to the 1 digits, and the label yi = −1 to the 7 digits."
   ]
  },
  {
   "cell_type": "markdown",
   "metadata": {},
   "source": [
    "#### (a)"
   ]
  },
  {
   "cell_type": "code",
   "execution_count": 44,
   "metadata": {},
   "outputs": [],
   "source": [
    "def F_w(w, X, y):\n",
    "    z = np.dot(X, w)\n",
    "    return np.mean(np.log(1 + np.exp(-y * z)))\n",
    "\n",
    "def logistic_loss_gradient(w, x, y):\n",
    "    z = np.dot(x, w)\n",
    "    gradient = (-x * y) / (1 + np.exp(z * y))\n",
    "    return gradient.reshape(w.shape)\n",
    "\n",
    "def logistic_sgd(X, y, lr=1e-5, epochs=2000):\n",
    "\n",
    "    w = np.zeros(X.shape[1])\n",
    "    log_fw = []\n",
    "    N = X.shape[0]\n",
    "\n",
    "    for epoch in range(epochs):\n",
    "        i = np.random.randint(N)\n",
    "        random_x = X[i, :]\n",
    "        random_y = y[i]\n",
    "        stochastic_gd = logistic_loss_gradient(w, random_x, random_y)\n",
    "        w = w - lr * stochastic_gd\n",
    "        log_fw.append(np.log(F_w(w, X, y)))\n",
    "\n",
    "    return w, log_fw\n",
    "\n",
    "\n",
    "w, log_fw = logistic_sgd(train_data, train_labels)"
   ]
  },
  {
   "cell_type": "code",
   "execution_count": 45,
   "metadata": {},
   "outputs": [
    {
     "data": {
      "image/png": "[encoded data removed]",
      "text/plain": [
       "<Figure size 640x480 with 1 Axes>"
      ]
     },
     "metadata": {},
     "output_type": "display_data"
    }
   ],
   "source": [
    "plt.plot(log_fw)\n",
    "plt.xlabel('Epoch')\n",
    "plt.ylabel('log(F(w))')\n",
    "plt.title('SGD with a = 1e-5')\n",
    "plt.grid()\n",
    "\n",
    "plt.show()\n",
    "plt.close()"
   ]
  },
  {
   "cell_type": "markdown",
   "metadata": {},
   "source": [
    "#### (b)\n",
    "\n",
    "The resulting plot shows a pattern indicating that SGD with fixed lr=1e-5 decreases, but not significantly, across iterations; instead, it oscillates between -2.0 and 1.5. It does not converge to a fixed w∗, which might be due to the way we implement SGD. We move along the gradient direction based on a random i drawn from the training dataset. This idea aligns with the in-class discussion because we move along the gradient direction at random, and the expected value of the random gradient is equal to the true gradient on average, but this is not guaranteed. The pattern demonstrates this reasoning: F(w) decreases over the iterations, but at any point, the randomly drawn point can lead to a step in the wrong direction."
   ]
  },
  {
   "cell_type": "markdown",
   "metadata": {},
   "source": [
    "#### (c)"
   ]
  },
  {
   "cell_type": "code",
   "execution_count": 46,
   "metadata": {},
   "outputs": [
    {
     "name": "stdout",
     "output_type": "stream",
     "text": [
      "Train error:  0.01175\n",
      "Test error:  0.009\n"
     ]
    }
   ],
   "source": [
    "def classify(w, X, y):\n",
    "    y_pred = np.sign(np.dot(X, w))\n",
    "    return np.mean(y_pred != y)\n",
    "\n",
    "train_error = classify(w, train_data, train_labels)\n",
    "test_error = classify(w, test_data, test_labels)\n",
    "\n",
    "print('Train error: ', train_error)\n",
    "print('Test error: ', test_error)"
   ]
  },
  {
   "cell_type": "markdown",
   "metadata": {},
   "source": [
    "### (2)"
   ]
  },
  {
   "cell_type": "markdown",
   "metadata": {},
   "source": [
    "#### (a)"
   ]
  },
  {
   "cell_type": "code",
   "execution_count": 47,
   "metadata": {},
   "outputs": [],
   "source": [
    "def logistic_sgd_with_decreasing_lr(X, y, lr=1e-4, epochs=2000):\n",
    "\n",
    "    w = np.zeros(X.shape[1])\n",
    "    log_fw = []\n",
    "    N = X.shape[0]\n",
    "\n",
    "    for epoch in range(epochs):\n",
    "        i = np.random.randint(N)\n",
    "        random_x = X[i, :]\n",
    "        random_y = y[i]\n",
    "        stochastic_gd = logistic_loss_gradient(w, random_x, random_y)\n",
    "\n",
    "        update_lr = lr * np.sqrt(1 / (epoch + 1))\n",
    "\n",
    "        w = w - update_lr * stochastic_gd\n",
    "        log_fw.append(np.log(F_w(w, X, y)))\n",
    "\n",
    "    return w, log_fw\n",
    "\n",
    "w2, log_fw_2 = logistic_sgd_with_decreasing_lr(train_data, train_labels)"
   ]
  },
  {
   "cell_type": "code",
   "execution_count": 48,
   "metadata": {},
   "outputs": [
    {
     "data": {
      "image/png": "[encoded data removed]",
      "text/plain": [
       "<Figure size 640x480 with 1 Axes>"
      ]
     },
     "metadata": {},
     "output_type": "display_data"
    }
   ],
   "source": [
    "plt.plot(log_fw_2)\n",
    "plt.xlabel('Epoch')\n",
    "plt.ylabel('log(F(w))')\n",
    "plt.title('SGD with changing a')\n",
    "plt.grid()\n",
    "\n",
    "plt.show()\n",
    "plt.close()"
   ]
  },
  {
   "cell_type": "markdown",
   "metadata": {},
   "source": [
    "#### (b)\n",
    "\n",
    "\n",
    "Unlike part (a) with a fixed learning rate of 1e-5, the adjusted version of SGD, where the learning rate is altered with the epochs, shows a pattern that it is more robust against randomness. F(w) is decreasing over the iterations, and w* seems to converge to a fixed value. Along the graph, we can still observe some fluctuations caused by the random gradient between 0 to 250, but as the learning rate is normalized by the epochs, the wrong direction caused by randomness is also normalized. And this idea agrees with what we discussed in class and in part (1), where SGD is random, and with an adjustable learning rate, we can eliminate the drawbacks of computation and still converge to a reasonable w*"
   ]
  },
  {
   "cell_type": "markdown",
   "metadata": {},
   "source": [
    "#### (c)"
   ]
  },
  {
   "cell_type": "code",
   "execution_count": 49,
   "metadata": {},
   "outputs": [
    {
     "name": "stdout",
     "output_type": "stream",
     "text": [
      "Train error:  0.01275\n",
      "Test error:  0.015\n"
     ]
    }
   ],
   "source": [
    "train_error = classify(w2, train_data, train_labels)\n",
    "test_error = classify(w2, test_data, test_labels)\n",
    "\n",
    "print('Train error: ', train_error)\n",
    "print('Test error: ', test_error)"
   ]
  },
  {
   "cell_type": "markdown",
   "metadata": {},
   "source": [
    "### (3)"
   ]
  },
  {
   "cell_type": "markdown",
   "metadata": {},
   "source": [
    "#### (a)"
   ]
  },
  {
   "cell_type": "code",
   "execution_count": 50,
   "metadata": {},
   "outputs": [
    {
     "data": {
      "image/png": "[encoded data removed]",
      "text/plain": [
       "<Figure size 640x480 with 1 Axes>"
      ]
     },
     "metadata": {},
     "output_type": "display_data"
    }
   ],
   "source": [
    "def F_w(w, X, y):\n",
    "    z = np.dot(X, w)\n",
    "    return np.mean(np.log(1 + np.exp(-y * z)))\n",
    "\n",
    "def logistic_loss_gradient_batch(w, X, y):\n",
    "    z = np.dot(X, w)\n",
    "    gradients = (-X.T * y) / (1 + np.exp(z * y))\n",
    "    return np.mean(gradients, axis=1)\n",
    "\n",
    "def logistic_gd_with_decreasing_lr(X, y, lr=1e-4, epochs=2000):\n",
    "    w = np.zeros(X.shape[1])\n",
    "    log_fw = []\n",
    "    N = X.shape[0]\n",
    "\n",
    "    for epoch in range(epochs):\n",
    "        # Compute the gradient over the entire batch\n",
    "        batch_gd = logistic_loss_gradient_batch(w, X, y)\n",
    "\n",
    "        # Update the learning rate\n",
    "        update_lr = lr / np.sqrt(epoch + 1)\n",
    "\n",
    "        # Update weights\n",
    "        w = w - update_lr * batch_gd\n",
    "\n",
    "        # Calculate and log the loss\n",
    "        log_fw.append(np.log(F_w(w, X, y)))\n",
    "\n",
    "    return w, log_fw\n",
    "\n",
    "\n",
    "w3, log_fw_3 = logistic_gd_with_decreasing_lr(train_data, train_labels)\n",
    "\n",
    "plt.plot(log_fw_3)\n",
    "plt.xlabel('Epoch')\n",
    "plt.ylabel('log(F(w))')\n",
    "plt.title('GD with changing a')\n",
    "plt.grid()\n",
    "\n",
    "plt.show()\n",
    "plt.close()"
   ]
  },
  {
   "cell_type": "markdown",
   "metadata": {},
   "source": [
    "#### (b)\n",
    "\n",
    "The convergence for GD with a changing learning rate is much smoother than that of SGD, and F(w) is clearly decreasing over iterations. The algorithm seems to converge to a fixed w*, resulting in minimal training and testing error compared to SGD. This pattern is related to what we discussed in class: GD moves along the gradient direction based on all data points at each iteration, which causes more computational cost. However, as a consequence, the convergence is smoother and more robust."
   ]
  },
  {
   "cell_type": "markdown",
   "metadata": {},
   "source": [
    "#### (c)"
   ]
  },
  {
   "cell_type": "code",
   "execution_count": 51,
   "metadata": {},
   "outputs": [
    {
     "name": "stdout",
     "output_type": "stream",
     "text": [
      "Train error:  0.00475\n",
      "Test error:  0.008\n"
     ]
    }
   ],
   "source": [
    "train_error = classify(w3, train_data, train_labels)\n",
    "test_error = classify(w3, test_data, test_labels)\n",
    "\n",
    "print('Train error: ', train_error)\n",
    "print('Test error: ', test_error)"
   ]
  },
  {
   "cell_type": "markdown",
   "metadata": {},
   "source": [
    "#### (4) Comment "
   ]
  },
  {
   "cell_type": "markdown",
   "metadata": {},
   "source": [
    "#### (a) \n",
    "\n",
    "The computation of SGD, when compared to GD, is much less expensive, as can be clearly observed: both SGD with a fixed learning rate and with a changing learning rate take roughly 15 seconds, while GD takes 40 seconds. The computational complexity for SGD is lower because, at each iteration, it takes a gradient step based on a single data point, whereas GD takes a gradient step using the average across the entire dataset."
   ]
  },
  {
   "cell_type": "markdown",
   "metadata": {},
   "source": [
    "#### (b)\n",
    "\n",
    "The SGD appears to converge to a minimum but not the global minimum yet because when I increase the iterations from 2000 to 5000, F(w) decreases to -2, whereas in 2000 iterations, it seems to plateau at around -1. On the other hand, GD converges smoothly to -4 within 2000 iterations. This clearly indicates that GD gets closer to the minimum, while SGD converges to a reasonable minimum. We can use the accuracy on testing data to understand why.\n",
    "\n",
    "In conclusion with 2000 iterations SGD converge to -1 and GD converge to -4 so GD seems to be closer to global minimum."
   ]
  },
  {
   "cell_type": "markdown",
   "metadata": {},
   "source": [
    "#### (c)\n",
    "\n",
    "The test accuracy for SGD with fixed lr is 99.959\n",
    "\n",
    "The test accuracy for SGD with adapting lr is 99.986\n",
    "\n",
    "The test accuracy for GD with adapting lr is 99.992\n",
    "\n",
    "In general GD will be more accurate however compared to the computational tradeoff, SGD might be a better option if we are working on a much larger datasets since in this case it already yield a relatively high accuracy."
   ]
  }
 ],
 "metadata": {
  "kernelspec": {
   "display_name": "base",
   "language": "python",
   "name": "python3"
  },
  "language_info": {
   "codemirror_mode": {
    "name": "ipython",
    "version": 3
   },
   "file_extension": ".py",
   "mimetype": "text/x-python",
   "name": "python",
   "nbconvert_exporter": "python",
   "pygments_lexer": "ipython3",
   "version": "3.11.7"
  }
 },
 "nbformat": 4,
 "nbformat_minor": 2
}

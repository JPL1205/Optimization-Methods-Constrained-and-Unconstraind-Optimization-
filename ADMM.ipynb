{
 "cells": [
  {
   "cell_type": "code",
   "execution_count": 1,
   "metadata": {},
   "outputs": [],
   "source": [
    "import pandas as pd\n",
    "import numpy as np\n",
    "from matplotlib import pyplot as plt\n",
    "from sklearn.datasets import fetch_openml"
   ]
  },
  {
   "cell_type": "code",
   "execution_count": 2,
   "metadata": {},
   "outputs": [],
   "source": [
    "test = pd.read_csv('mnist_test.csv',header=None)\n",
    "train = pd.read_csv('mnist_train.csv', header=None)"
   ]
  },
  {
   "cell_type": "code",
   "execution_count": 3,
   "metadata": {},
   "outputs": [
    {
     "name": "stdout",
     "output_type": "stream",
     "text": [
      "shape of data with label 0 : (5923, 28, 28)\n",
      "shape of data with label 1 : (6742, 28, 28)\n",
      "shape of data with label 2 : (5958, 28, 28)\n",
      "shape of data with label 3 : (6131, 28, 28)\n",
      "shape of data with label 4 : (5842, 28, 28)\n",
      "shape of data with label 5 : (5421, 28, 28)\n",
      "shape of data with label 6 : (5918, 28, 28)\n",
      "shape of data with label 7 : (6265, 28, 28)\n",
      "shape of data with label 8 : (5851, 28, 28)\n",
      "shape of data with label 9 : (5949, 28, 28)\n",
      "shape of data with label 0 : (980, 28, 28)\n",
      "shape of data with label 1 : (1135, 28, 28)\n",
      "shape of data with label 2 : (1032, 28, 28)\n",
      "shape of data with label 3 : (1010, 28, 28)\n",
      "shape of data with label 4 : (982, 28, 28)\n",
      "shape of data with label 5 : (892, 28, 28)\n",
      "shape of data with label 6 : (958, 28, 28)\n",
      "shape of data with label 7 : (1028, 28, 28)\n",
      "shape of data with label 8 : (974, 28, 28)\n",
      "shape of data with label 9 : (1009, 28, 28)\n"
     ]
    }
   ],
   "source": [
    "def preprocess(data):\n",
    "    X = data.iloc[:, 1:]\n",
    "    y = data.iloc[:, 0]\n",
    "    digits = {j:[] for j in range(10)}\n",
    "    for j in range(len(y)):\n",
    "        cur_label = int(y[j])\n",
    "        cur_pixel_data = np.array(X.iloc[j]).reshape(28,28)\n",
    "        digits[cur_label].append(cur_pixel_data)\n",
    "    digits = {j:np.stack(digits[j]) for j in range(10)}\n",
    "    for j in range(10):\n",
    "        print('shape of data with label', j, ':', digits[j].shape)\n",
    "    \n",
    "    return digits\n",
    "\n",
    "train_digits = preprocess(train)\n",
    "test_digits = preprocess(test)"
   ]
  },
  {
   "cell_type": "code",
   "execution_count": 4,
   "metadata": {},
   "outputs": [
    {
     "data": {
      "text/plain": [
       "(5958, 784)"
      ]
     },
     "execution_count": 4,
     "metadata": {},
     "output_type": "execute_result"
    }
   ],
   "source": [
    "train_one_data = train_digits[1]\n",
    "train_two_data = train_digits[2]\n",
    "\n",
    "train_one_labels = np.ones(len(train_one_data))\n",
    "train_two_labels = np.ones(len(train_two_data))*-1\n",
    "\n",
    "train_one_data = np.reshape(train_one_data, (len(train_one_data), 28*28))\n",
    "train_two_data = np.reshape(train_two_data, (len(train_two_data), 28*28))\n",
    "\n",
    "train_two_data.shape"
   ]
  },
  {
   "cell_type": "code",
   "execution_count": 5,
   "metadata": {},
   "outputs": [
    {
     "data": {
      "text/plain": [
       "((4000, 784), (4000,))"
      ]
     },
     "execution_count": 5,
     "metadata": {},
     "output_type": "execute_result"
    }
   ],
   "source": [
    "train_one_data = train_one_data[:2000]\n",
    "train_two_data = train_two_data[:2000]\n",
    "\n",
    "train_one_labels = train_one_labels[:2000]\n",
    "train_two_labels = train_two_labels[:2000]\n",
    "\n",
    "train_data = np.concatenate((train_one_data, train_two_data))\n",
    "train_labels = np.concatenate((train_one_labels, train_two_labels))\n",
    "\n",
    "train_data.shape, train_labels.shape"
   ]
  },
  {
   "cell_type": "code",
   "execution_count": 6,
   "metadata": {},
   "outputs": [
    {
     "data": {
      "text/plain": [
       "(1032, 784)"
      ]
     },
     "execution_count": 6,
     "metadata": {},
     "output_type": "execute_result"
    }
   ],
   "source": [
    "test_one_data = test_digits[1]\n",
    "test_two_data = test_digits[2]\n",
    "\n",
    "test_one_labels = np.ones(len(test_one_data))\n",
    "test_two_labels = np.ones(len(test_two_data))*-1\n",
    "\n",
    "test_one_data = np.reshape(test_one_data, (len(test_one_data), 28*28))\n",
    "test_two_data = np.reshape(test_two_data, (len(test_two_data), 28*28))\n",
    "\n",
    "test_two_data.shape"
   ]
  },
  {
   "cell_type": "code",
   "execution_count": 7,
   "metadata": {},
   "outputs": [
    {
     "data": {
      "text/plain": [
       "((1000, 784), (1000,))"
      ]
     },
     "execution_count": 7,
     "metadata": {},
     "output_type": "execute_result"
    }
   ],
   "source": [
    "test_one_data = test_one_data[:500]\n",
    "test_two_data = test_two_data[:500]\n",
    "\n",
    "test_one_labels = test_one_labels[:500]\n",
    "test_two_labels = test_two_labels[:500]\n",
    "\n",
    "test_data = np.concatenate((test_one_data, test_two_data))\n",
    "test_labels = np.concatenate((test_one_labels, test_two_labels))\n",
    "\n",
    "test_data.shape, test_labels.shape"
   ]
  },
  {
   "cell_type": "code",
   "execution_count": null,
   "metadata": {},
   "outputs": [],
   "source": [
    "# def update_w_gradient_descent(X, y, lambd, z, u, rho, eta=0.001, max_iter=200, tol=1e-5):\n",
    "#     w = np.zeros(X.shape[1])\n",
    "#     w_prev = np.copy(w)\n",
    "#     for i in range(max_iter):\n",
    "#         grad = gradient_w(w, X, y, lambd, z, u, rho)\n",
    "#         w -= eta * grad\n",
    "        \n",
    "#         # Check for convergence by looking at the norm of the gradient or change in w\n",
    "#         if np.linalg.norm(grad) < tol or np.linalg.norm(w - w_prev) < tol:\n",
    "#             break\n",
    "#         w_prev = np.copy(w)\n",
    "#     return w"
   ]
  },
  {
   "cell_type": "code",
   "execution_count": 25,
   "metadata": {},
   "outputs": [
    {
     "name": "stderr",
     "output_type": "stream",
     "text": [
      "/var/folders/90/9f8yk06x5m5cqysc4rrbrs_c0000gn/T/ipykernel_2267/813287896.py:9: RuntimeWarning: overflow encountered in exp\n",
      "  grad = np.mean((-y_reshape * X) / (1 + np.exp(y_reshape * np.dot(X, w[:, np.newaxis]))), axis=0)\n"
     ]
    }
   ],
   "source": [
    "def F(w, X, y, lambd, z):\n",
    "    y_reshape = y.reshape(-1, 1)\n",
    "    logTerm = np.sum(np.log(1+(np.exp(-np.dot(X * y_reshape, w))))) / len(y)\n",
    "    z_term = (lambd / 2) * np.linalg.norm(z)**2\n",
    "    return logTerm + z_term\n",
    "\n",
    "def update_w(w, X, y, z, rho, lr):\n",
    "    y_reshape = y.reshape(-1, 1)\n",
    "    grad = np.mean((-y_reshape * X) / (1 + np.exp(y_reshape * np.dot(X, w[:, np.newaxis]))), axis=0)\n",
    "    w = w - lr * (grad + rho * (w-z))\n",
    "    return w\n",
    "\n",
    "def update_z(w, u, lambd, rho):\n",
    "    return (rho * (w + u)) / (lambd + rho)\n",
    "\n",
    "def update_u(u, w, z):\n",
    "    return u + w - z\n",
    "\n",
    "def admm_logistic_regression(X, y, lambd, rho, iterations, lr, tol):\n",
    "    w = np.zeros(X.shape[1])\n",
    "    z = np.zeros(X.shape[1])\n",
    "    u = np.zeros(X.shape[1])\n",
    "    F_values = [] \n",
    "    w_z_diff = []\n",
    "    \n",
    "    for k in range(iterations):\n",
    "        for _ in np.arange(100):\n",
    "            w = update_w(w, X, y, z, rho, lr)\n",
    "        z = update_z(w, u, lambd, rho)\n",
    "        u = update_u(u, w, z)\n",
    "        \n",
    "        # Calculate and store metrics for plotting\n",
    "        F_value = F(w, X, y, lambd, z) # F(w, z)\n",
    "        w_z_difference = np.linalg.norm(w - z) # ‖w - z‖\n",
    "        \n",
    "        F_values.append(F_value)\n",
    "        w_z_diff.append(w_z_difference)\n",
    "    \n",
    "    return w, z, F_values, w_z_diff\n",
    "\n",
    "lambd = 0.1\n",
    "rho = 0.01\n",
    "iterations = 1000  # Number of ADMM iterations\n",
    "lr = 0.001  # Learning rate for GD\n",
    "\n",
    "w, z, F_values, w_z_diff = admm_logistic_regression(train_data, train_labels, lambd, rho, iterations, lr, tol=1e-5)"
   ]
  },
  {
   "cell_type": "markdown",
   "metadata": {},
   "source": [
    "### (i)"
   ]
  },
  {
   "cell_type": "code",
   "execution_count": 29,
   "metadata": {},
   "outputs": [
    {
     "data": {
      "image/png": "[encoded data removed]",
      "text/plain": [
       "<Figure size 1200x600 with 2 Axes>"
      ]
     },
     "metadata": {},
     "output_type": "display_data"
    }
   ],
   "source": [
    "plt.figure(figsize=(12, 6))\n",
    "plt.subplot(1, 2, 1)\n",
    "plt.semilogy(F_values, label='F(w, z)')\n",
    "plt.xlabel('epochs')\n",
    "plt.ylabel('F(w,z) Loss')\n",
    "plt.grid()\n",
    "plt.legend()\n",
    "plt.subplot(1, 2, 2)\n",
    "plt.semilogy(w_z_diff, label='‖w - z‖')\n",
    "plt.xlabel('epochs')\n",
    "plt.ylabel('‖w - z‖')\n",
    "plt.legend()\n",
    "plt.grid()\n",
    "plt.show()"
   ]
  },
  {
   "cell_type": "markdown",
   "metadata": {},
   "source": [
    "### (ii)\n",
    "\n",
    "The above graph is the result of using Gradient Descent as the update method for w, which lacks a closed-form solution. In this approach, the objective function F(w,z) decreases and increase toward a convergence at around 10^-2.5, and the primal residual ∥w−z∥ decrease over epochs. The pattern indicates that the algorithm is learning and that the constraints are being satisfied over time. The computation time for updating w is more substantial than that for z and u, since I have nested a Gradient Descent process with 100 steps in each ADMM iteration due to the absence of a closed-form solution for w. I have experimented with different numbers of iterations, and as the results suggest, by increasing the number of epochs, the constraint ∥w−z∥ indeed converge along with the epochs. Overall the ADMM training led the objective function toward convergence with the given constraint."
   ]
  },
  {
   "cell_type": "markdown",
   "metadata": {},
   "source": [
    "### (iii)"
   ]
  },
  {
   "cell_type": "code",
   "execution_count": 27,
   "metadata": {},
   "outputs": [
    {
     "name": "stdout",
     "output_type": "stream",
     "text": [
      "Train error:  0.0\n",
      "Test error:  0.009\n"
     ]
    }
   ],
   "source": [
    "def classify(w, X, y):\n",
    "    y_pred = np.sign(np.dot(X, w))\n",
    "    return np.mean(y_pred != y)\n",
    "\n",
    "train_error = classify(w, train_data, train_labels)\n",
    "test_error = classify(w, test_data, test_labels)\n",
    "\n",
    "print('Train error: ', train_error)\n",
    "print('Test error: ', test_error)"
   ]
  },
  {
   "cell_type": "markdown",
   "metadata": {},
   "source": [
    "### (iv)\n",
    "\n",
    "ADMM is more flexible and breaks down a problem into smaller sub-problems, each of which can be solved independently. My observation based on this ADMM approach to the previous homework where we used Method of Multipliers is that ADMM has a more powerful way to be written in Scale form so that it can tackle updating step with no closed form solution more flexibly, for instance the GD update I do in above. And the ADMM has strong convergence properties, unlike SGD, which  requires constraints to be incorporated into the objective function as penalties. For instance the train error is 0.0 way smaller than when what we obtain when implementing SGD which had 0.00475 train error. Also I observe ADMM can handle explicitly, leading to better feasibility in solutions. But the downside is the selection of ρ might not be easy also if multiple update steps involve no close form solution, the computational cost can be much more expensive as our above problem suggest, in other words, the breaking down sub-problem each can be complex, and managing the coordination between sub-problems can be hard in distributed settings."
   ]
  }
 ],
 "metadata": {
  "kernelspec": {
   "display_name": "base",
   "language": "python",
   "name": "python3"
  },
  "language_info": {
   "codemirror_mode": {
    "name": "ipython",
    "version": 3
   },
   "file_extension": ".py",
   "mimetype": "text/x-python",
   "name": "python",
   "nbconvert_exporter": "python",
   "pygments_lexer": "ipython3",
   "version": "3.11.7"
  }
 },
 "nbformat": 4,
 "nbformat_minor": 2
}
